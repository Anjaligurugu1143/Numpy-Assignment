{
 "cells": [
  {
   "cell_type": "markdown",
   "id": "94518ef7-560c-4b7b-85c9-83ef7a6cfba0",
   "metadata": {},
   "source": [
    "# 1.Explain the purpose and advantages of NumPy in scientific computing and data analysis. How does it enhance Python's capabilities for numerical operations?"
   ]
  },
  {
   "cell_type": "markdown",
   "id": "5e495a4e-7f6c-4797-874e-6c092e25a267",
   "metadata": {},
   "source": [
    "Purpose of NumPy:\n",
    "\n",
    "1.Efficient Numerical Computations: NumPy is primarily used for performing fast and efficient numerical operations on large data sets. Its array-oriented computing framework enables working with large matrices and arrays much faster than traditional Python lists.\n",
    "\n",
    "2.Foundation for Scientific Libraries: Many other libraries in Python, such as SciPy, Pandas, Matplotlib, and scikit-learn, build on top of NumPy arrays and functions. It serves as the foundation for scientific computing in Python.\n",
    "\n",
    "3.Multidimensional Array Support: NumPy introduces the ndarray, a powerful n-dimensional array object that supports a variety of dimensions and shapes. This enables complex mathematical and statistical operations on large datasets.\n",
    "\n",
    "4.Broad Range of Mathematical Operations: NumPy provides functions for linear algebra, Fourier transforms, random number generation, and many other mathematical operations, making it a complete solution for numerical computing.\n",
    "\n",
    "\n",
    "Advantages of NumPy:\n",
    "\n",
    "1.Performance and Efficiency:\n",
    "Vectorization: NumPy replaces loops with array-based operations (vectorization), which allows it to process data much faster. This is particularly useful in scientific computing where performance is critical.\n",
    "Memory Efficiency: NumPy arrays are more compact than Python lists. They store data more efficiently, requiring less memory and leading to better performance.\n",
    "\n",
    "2.Broadcasting:\n",
    "Simplified Operations: Broadcasting is the process of applying operations on arrays of different shapes. NumPy automatically adjusts arrays during arithmetic operations, enabling concise and intuitive code.\n",
    "\n",
    "3.Compatibility with C, C++, and Fortran:\n",
    "Interfacing with Low-Level Languages: NumPy supports interfacing with code written in C, C++, or Fortran. This allows users to leverage the speed of these lower-level languages in Python, further enhancing performance.\n",
    "\n",
    "4.Universal Functions (ufuncs):\n",
    "NumPy offers functions that operate element-wise on arrays, called universal functions (or ufuncs). These functions are highly optimized and eliminate the need for manual looping over array elements, making the code simpler and faster.\n",
    "\n",
    "5.Advanced Slicing and Indexing:\n",
    "NumPy provides powerful slicing and indexing capabilities, allowing you to access and manipulate large arrays more easily and flexibly than with standard Python lists.\n",
    "\n",
    "6.Handling Multidimensional Data:\n",
    "Multidimensional arrays (matrices) can be easily created, indexed, reshaped, and manipulated with NumPy, making it ideal for tasks involving linear algebra, signal processing, or complex scientific calculations.\n",
    "\n",
    "7.Integration with Data Science Tools:\n",
    "NumPy arrays are fundamental to many data science libraries like Pandas and scikit-learn. They allow seamless integration of numerical computations with data analysis, machine learning, and data visualization workflows.\n",
    "\n",
    "How NumPy Enhances Python's Capabilities:\n",
    "\n",
    "1.Overcomes Python's Limitations in Numerical Computations: Python’s built-in lists and loops are inefficient for large-scale numerical computations. NumPy’s array structure is much faster and more memory-efficient, improving Python's performance in this area.\n",
    "\n",
    "2.Multi-dimensional Array Support: Python lacks built-in support for multidimensional arrays. NumPy provides this capability, making Python much more suitable for matrix operations and linear algebra.\n",
    "\n",
    "3.Vectorized Operations: Python requires explicit looping over elements, but NumPy performs element-wise operations in a vectorized manner, leading to cleaner code and substantial speedups.\n",
    "\n",
    "4.Array Broadcasting: Python lists don’t support broadcasting. NumPy’s broadcasting allows for intuitive operations between arrays of different shapes, simplifying numerical and data analysis tasks."
   ]
  },
  {
   "cell_type": "markdown",
   "id": "dccdbfae-a921-4303-97f2-0a18e1fc71cd",
   "metadata": {},
   "source": [
    "# 2.Compare and contrast np.mean() and np.average() functions in NumPy. When would you use one over the other?"
   ]
  },
  {
   "cell_type": "markdown",
   "id": "b7461e5a-c37a-4672-82b5-2aea8185128a",
   "metadata": {},
   "source": [
    "1. np.mean():\n",
    "\n",
    "Functionality:\n",
    "Computes the arithmetic mean (average) of the elements along a specified axis (or for the entire array if no axis is specified).\n",
    "Does not support weights; it simply divides the sum of the elements by the total number of elements.\n",
    "\n",
    "Syntax:\n",
    "np.mean(a, axis=None, dtype=None, out=None, keepdims=False)\n",
    "\n",
    "Use Case:\n",
    "Use np.mean() when you want to compute a simple, unweighted average over an array. It is faster and simpler when no weights are involved."
   ]
  },
  {
   "cell_type": "code",
   "execution_count": 8,
   "id": "de85fd1d-e95a-49b2-8ae1-a5befc639969",
   "metadata": {},
   "outputs": [
    {
     "name": "stdout",
     "output_type": "stream",
     "text": [
      "3.0\n"
     ]
    }
   ],
   "source": [
    "import numpy as np\n",
    "data = np.array([1, 2, 3, 4, 5])\n",
    "mean_value = np.mean(data)\n",
    "print(mean_value)"
   ]
  },
  {
   "cell_type": "markdown",
   "id": "e0658a70-4bf6-4af6-a500-676e04d55263",
   "metadata": {},
   "source": [
    "2. np.average()\n",
    "\n",
    "Functionality:\n",
    "Computes the weighted average of the elements in the array. If weights are provided, it multiplies each element by its corresponding weight before averaging. If no weights are provided, it behaves like np.mean().\n",
    "\n",
    "Syntax:\n",
    "np.average(a, axis=None, weights=None, returned=False)\n",
    "\n",
    "Use Case:\n",
    "Use np.average() when you need to compute a weighted average, where some data points have more influence on the result than others. If no weights are provided, it defaults to a simple mean, but its main advantage is in its ability to handle weighted data."
   ]
  },
  {
   "cell_type": "code",
   "execution_count": 11,
   "id": "c2b00484-d011-4c85-be60-06900b0ce035",
   "metadata": {},
   "outputs": [
    {
     "name": "stdout",
     "output_type": "stream",
     "text": [
      "3.6666666666666665\n"
     ]
    }
   ],
   "source": [
    "import numpy as np\n",
    "data = np.array([1, 2, 3, 4, 5])\n",
    "weights = np.array([0.1, 0.2, 0.3, 0.4, 0.5])\n",
    "weighted_avg = np.average(data, weights=weights)\n",
    "print(weighted_avg)"
   ]
  },
  {
   "cell_type": "markdown",
   "id": "154cd80d-5948-4d5c-9a8c-bc01b8718a81",
   "metadata": {},
   "source": [
    "When to Use One Over the Other:\n",
    "\n",
    "Use np.mean():\n",
    "When you need a simple arithmetic mean without considering weights.\n",
    "When performance is important, and weights are not necessary.\n",
    "For general purposes in numerical and statistical operations where all data points are treated equally.\n",
    "    \n",
    "Use np.average():\n",
    "When you need to calculate a weighted average, where different data points contribute differently to the final result.\n",
    "When you have data where some values should be given more significance based on their associated weights.\n",
    "If you want both the average and the sum of weights (by setting returned=True)."
   ]
  },
  {
   "cell_type": "markdown",
   "id": "0af09056-27c7-4d0d-9776-5dcd21a4694d",
   "metadata": {},
   "source": [
    "# 3.Describe the methods for reversing a NumPy array along different axes. Provide examples for 1D and 2D arrays."
   ]
  },
  {
   "cell_type": "markdown",
   "id": "70ae005e-9687-4268-9827-8f6adac0de04",
   "metadata": {},
   "source": [
    "1. Reversing a 1D Array\n",
    "For a 1D array, you can reverse the elements using slicing with a step of -1."
   ]
  },
  {
   "cell_type": "code",
   "execution_count": 14,
   "id": "48c6b3a3-2c9f-4012-a59e-fa0e18a93601",
   "metadata": {},
   "outputs": [
    {
     "name": "stdout",
     "output_type": "stream",
     "text": [
      "[5 4 3 2 1]\n"
     ]
    }
   ],
   "source": [
    "import numpy as np\n",
    "arr = np.array([1, 2, 3, 4, 5])\n",
    "reversed_arr = arr[::-1]\n",
    "print(reversed_arr)"
   ]
  },
  {
   "cell_type": "markdown",
   "id": "8aabefbc-b9b8-4f48-9ff0-d3f8f85b35ab",
   "metadata": {},
   "source": [
    "2. Reversing a 2D Array\n",
    " Reversing a 2D Array Along Rows (Axis 0)"
   ]
  },
  {
   "cell_type": "code",
   "execution_count": 15,
   "id": "fba0987a-d8e6-4023-b42c-4336764bfdd6",
   "metadata": {},
   "outputs": [
    {
     "name": "stdout",
     "output_type": "stream",
     "text": [
      "[[7 8 9]\n",
      " [4 5 6]\n",
      " [1 2 3]]\n"
     ]
    }
   ],
   "source": [
    "import numpy as np\n",
    "arr_2d = np.array([[1, 2, 3], [4, 5, 6], [7, 8, 9]])\n",
    "reversed_rows = arr_2d[::-1, :]\n",
    "print(reversed_rows)"
   ]
  },
  {
   "cell_type": "markdown",
   "id": "05c36d08-b705-432b-9fe4-461e8bcbd8e0",
   "metadata": {},
   "source": [
    " Reversing a 2D Array Along Columns (Axis 1)"
   ]
  },
  {
   "cell_type": "code",
   "execution_count": 16,
   "id": "c6fe669c-43da-4e10-9587-9f9c59c2fd68",
   "metadata": {},
   "outputs": [
    {
     "name": "stdout",
     "output_type": "stream",
     "text": [
      "[[3 2 1]\n",
      " [6 5 4]\n",
      " [9 8 7]]\n"
     ]
    }
   ],
   "source": [
    "import numpy as np\n",
    "arr_2d = np.array([[1, 2, 3], [4, 5, 6], [7, 8, 9]])\n",
    "reversed_columns = arr_2d[:, ::-1]\n",
    "print(reversed_columns)"
   ]
  },
  {
   "cell_type": "markdown",
   "id": "84041b56-1f61-474f-b7f8-0487368fb128",
   "metadata": {},
   "source": [
    "Reversing a 2D Array Along Both Axes"
   ]
  },
  {
   "cell_type": "code",
   "execution_count": 17,
   "id": "dbcecf63-1c7a-4cd8-bf2b-3077f50d64ca",
   "metadata": {},
   "outputs": [
    {
     "name": "stdout",
     "output_type": "stream",
     "text": [
      "[[9 8 7]\n",
      " [6 5 4]\n",
      " [3 2 1]]\n"
     ]
    }
   ],
   "source": [
    "import numpy as np\n",
    "arr_2d = np.array([[1, 2, 3], [4, 5, 6], [7, 8, 9]])\n",
    "reversed_both = arr_2d[::-1, ::-1]\n",
    "print(reversed_both)"
   ]
  },
  {
   "cell_type": "markdown",
   "id": "e94ed8ba-4a99-4863-b251-9c64341ceaf8",
   "metadata": {},
   "source": [
    "3. Using np.flip() Function\n",
    "Reversing Rows (Axis 0):"
   ]
  },
  {
   "cell_type": "code",
   "execution_count": 18,
   "id": "8b29c03a-c8e5-4eb6-8bc3-9f5a11eb1062",
   "metadata": {},
   "outputs": [
    {
     "name": "stdout",
     "output_type": "stream",
     "text": [
      "[[7 8 9]\n",
      " [4 5 6]\n",
      " [1 2 3]]\n"
     ]
    }
   ],
   "source": [
    "import numpy as np\n",
    "arr_2d = np.array([[1, 2, 3], [4, 5, 6], [7, 8, 9]])\n",
    "flipped_rows = np.flip(arr_2d, axis=0)\n",
    "print(flipped_rows)"
   ]
  },
  {
   "cell_type": "markdown",
   "id": "6b117877-cdc1-4c1a-a9a4-7c6ff25590ed",
   "metadata": {},
   "source": [
    "Reversing Columns (Axis 1):"
   ]
  },
  {
   "cell_type": "code",
   "execution_count": 19,
   "id": "fcacbe06-bd89-4148-b117-be0c88a7984d",
   "metadata": {},
   "outputs": [
    {
     "name": "stdout",
     "output_type": "stream",
     "text": [
      "[[3 2 1]\n",
      " [6 5 4]\n",
      " [9 8 7]]\n"
     ]
    }
   ],
   "source": [
    "import numpy as np\n",
    "arr_2d = np.array([[1, 2, 3], [4, 5, 6], [7, 8, 9]])\n",
    "flipped_columns = np.flip(arr_2d, axis=1)\n",
    "print(flipped_columns)"
   ]
  },
  {
   "cell_type": "markdown",
   "id": "a34149f6-4d10-47ab-8b34-59d2c7639062",
   "metadata": {},
   "source": [
    "Reversing Both Axes:"
   ]
  },
  {
   "cell_type": "code",
   "execution_count": 20,
   "id": "3d6ed421-8a5b-4e38-80a1-fbf994ff8e41",
   "metadata": {},
   "outputs": [
    {
     "name": "stdout",
     "output_type": "stream",
     "text": [
      "[[9 8 7]\n",
      " [6 5 4]\n",
      " [3 2 1]]\n"
     ]
    }
   ],
   "source": [
    "import numpy as np\n",
    "arr_2d = np.array([[1, 2, 3], [4, 5, 6], [7, 8, 9]])\n",
    "flipped_both = np.flip(arr_2d)\n",
    "print(flipped_both)"
   ]
  },
  {
   "cell_type": "markdown",
   "id": "3c6a5202-4a59-401e-b341-4fec8e737b45",
   "metadata": {},
   "source": [
    "# 4. How can you determine the data type of elements in a NumPy array? Discuss the importance of data types in memory management and performance."
   ]
  },
  {
   "cell_type": "markdown",
   "id": "1acb1870-9348-4b65-96de-a95306575422",
   "metadata": {},
   "source": [
    "Determining the Data Type of Elements in a NumPy Array:\n",
    "\n",
    "In NumPy, every array has an associated data type (dtype), which defines the type of the elements stored in the array (e.g., integers, floats, etc.). You can determine the data type of a NumPy array's elements using the .dtype attribute."
   ]
  },
  {
   "cell_type": "code",
   "execution_count": 21,
   "id": "3c5c0e60-4877-42cc-a7db-fa151673c423",
   "metadata": {},
   "outputs": [
    {
     "name": "stdout",
     "output_type": "stream",
     "text": [
      "int64\n"
     ]
    }
   ],
   "source": [
    "import numpy as np\n",
    "arr = np.array([1, 2, 3])\n",
    "print(arr.dtype)"
   ]
  },
  {
   "cell_type": "markdown",
   "id": "831c8432-4b15-42cf-8d14-cda3f34ccb38",
   "metadata": {},
   "source": [
    "Importance of Data Types in Memory Management and Performance:\n",
    "\n",
    "Data types in NumPy are crucial for memory efficiency and computational performance, especially when working with large datasets. Here's why they matter:\n",
    "1. Memory Management:\n",
    "Efficient Memory Usage:\n",
    "Different data types require different amounts of memory. For example, int32 (32-bit integer) takes 4 bytes per element, whereas int64 (64-bit integer) takes 8 bytes per element. Similarly, float64 requires more memory than float32. Using the appropriate data type allows you to optimize memory usage, particularly with large arrays.\n",
    "Avoiding Unnecessary Precision:\n",
    "Sometimes, you don’t need the full precision of float64 or int64. If your problem can be solved with lower precision (e.g., float32 or int32), you can save a lot of memory.\n",
    "\n",
    "2. Performance Considerations:\n",
    "Faster Computations:\n",
    "Smaller data types like int32 or float32 can lead to faster computation times because they require less memory bandwidth and fewer CPU cycles compared to int64 or float64. When performing large-scale numerical operations, the choice of data type can significantly impact performance.\n",
    "Cache Efficiency:\n",
    "Smaller data types allow more data to fit in the CPU cache. Since cache access is much faster than main memory, this can lead to a noticeable speedup in certain algorithms.\n",
    "\n",
    "4. Precision and Accuracy:\n",
    "Numerical Accuracy:\n",
    "While smaller data types can improve performance, they also reduce precision. For example, float32 has less precision than float64, and in some applications like scientific simulations, financial modeling, or machine learning, this loss of precision can lead to inaccurate results.\n",
    "Use float64 or int64 when higher precision is necessary, but choose float32 or int32 when precision is not as critical.\n",
    "Overflow and Underflow:\n",
    "Choosing a data type with insufficient range can lead to overflow (values exceeding the data type’s maximum representable value) or underflow (values below the data type’s minimum representable value)."
   ]
  },
  {
   "cell_type": "markdown",
   "id": "9b7fbead-abba-49c1-b1b5-f9b94495a504",
   "metadata": {},
   "source": [
    "# 5. Define ndarrays in NumPy and explain their key features. How do they differ from standard Python lists?"
   ]
  },
  {
   "cell_type": "markdown",
   "id": "a40b7ba6-10c9-4ad2-a729-e473f2a50eea",
   "metadata": {},
   "source": [
    "The NumPy ndarray is a core data structure used for numerical computing, offering efficient storage and operations on large datasets.\n",
    "Key features include:\n",
    "\n",
    "N-Dimensional:\n",
    "Can have multiple dimensions (1D, 2D, etc.), supporting complex data structures.\n",
    "\n",
    "Homogeneous Data:\n",
    "All elements must be of the same type (dtype), ensuring memory efficiency.\n",
    "\n",
    "Memory Efficiency:\n",
    "Uses contiguous memory blocks, leading to more compact storage compared to Python lists.\n",
    "\n",
    "Vectorized Operations:\n",
    "Supports element-wise operations without explicit loops, enhancing performance.\n",
    "\n",
    "Broadcasting:\n",
    "Allows operations on arrays of different shapes without additional memory use.\n",
    "\n",
    "Advanced Indexing:\n",
    "Supports multidimensional indexing and slicing for efficient data manipulation.\n",
    "\n",
    "Mathematical Functions:\n",
    "Comes with optimized functions for fast numerical computations.\n",
    "\n",
    "Compared to Python lists, ndarrays are more memory-efficient, support faster operations due to vectorization, and are optimized for large-scale numerical tasks. They are ideal for scientific computing, where performance and memory management are critical."
   ]
  },
  {
   "cell_type": "markdown",
   "id": "a7388b07-01c0-4b34-bed9-b7a6b5cd58c0",
   "metadata": {},
   "source": [
    "# 6. Analyze the performance benefits of NumPy arrays over Python lists for large-scale numerical operations."
   ]
  },
  {
   "cell_type": "markdown",
   "id": "a6c36a4a-61eb-44a9-8021-0f830c96f4a9",
   "metadata": {},
   "source": [
    "NumPy arrays offer significant performance advantages over Python lists, particularly for large-scale numerical operations. The key benefits are:\n",
    "\n",
    "1. Memory Efficiency\n",
    "Compact Memory Representation: NumPy arrays use contiguous blocks of memory, unlike Python lists, which store elements as pointers to objects. This reduces memory overhead and allows for more data to fit in memory.\n",
    "Fixed Data Type: All elements in a NumPy array are of the same type, which allows for more efficient storage. Python lists can store different types, requiring more memory to store the associated type information.\n",
    "\n",
    "2. Vectorized Operations\n",
    "Elimination of Loops: NumPy allows for vectorized operations, where element-wise computations can be done without explicit loops. This avoids the performance overhead of Python loops and makes operations faster, especially for large datasets.\n",
    "Example: Adding two arrays element-wise in NumPy is done in a single operation, while Python lists require loops or comprehensions, slowing down performance.\n",
    "\n",
    "3. Optimized for Large Datasets\n",
    "Low-level Optimizations: NumPy is implemented in C and takes advantage of low-level optimizations, enabling faster execution of numerical operations.\n",
    "Batch Processing: NumPy performs operations in batches, utilizing optimized libraries like BLAS and LAPACK for tasks like matrix multiplication.\n",
    "\n",
    "4. Broadcasting\n",
    "Efficient Operations on Arrays of Different Shapes: NumPy's broadcasting feature allows operations on arrays of different shapes without copying or replicating data, saving both time and memory during operations.\n",
    "\n",
    "5. Cache Efficiency\n",
    "Better Cache Utilization: Due to the contiguous memory layout, NumPy arrays have better cache locality. This allows for faster access and processing of data, especially when working on large arrays.\n",
    "\n",
    "6. Multithreading and Parallelism\n",
    "Multithreaded Operations: Many NumPy operations are multithreaded, allowing parallel processing on multiple cores, further speeding up execution for large-scale numerical tasks."
   ]
  },
  {
   "cell_type": "markdown",
   "id": "a87fd426-01b9-4080-b754-7b54faf5f8ca",
   "metadata": {},
   "source": [
    "# 7. Compare vstack() and hstack() functions in NumPy. Provide examples demonstrating their usage and output."
   ]
  },
  {
   "cell_type": "markdown",
   "id": "433d3b3c-b0a6-4f3b-8383-d7c0328fc6b5",
   "metadata": {},
   "source": [
    "In NumPy, vstack() and hstack() are functions used to stack arrays along different axes.\n",
    "\n",
    "1. vstack() (Vertical Stack):\n",
    "Purpose: Stacks arrays vertically (row-wise), i.e., one array is placed on top of the other.\n",
    "Usage: The arrays must have the same number of columns but can have different numbers of rows."
   ]
  },
  {
   "cell_type": "code",
   "execution_count": 22,
   "id": "8827ddae-0970-4741-998c-14e67e6dd1ed",
   "metadata": {},
   "outputs": [
    {
     "name": "stdout",
     "output_type": "stream",
     "text": [
      "[[1 2 3]\n",
      " [4 5 6]]\n"
     ]
    }
   ],
   "source": [
    "import numpy as np\n",
    "arr1 = np.array([1, 2, 3])\n",
    "arr2 = np.array([4, 5, 6])\n",
    "result = np.vstack((arr1, arr2))\n",
    "print(result)"
   ]
  },
  {
   "cell_type": "markdown",
   "id": "a655c45b-2ede-4c3d-92f6-ea78094d0f49",
   "metadata": {},
   "source": [
    "2. hstack() (Horizontal Stack):\n",
    "Purpose: Stacks arrays horizontally (column-wise), i.e., one array is placed next to the other.\n",
    "Usage: The arrays must have the same number of rows but can have different numbers of columns."
   ]
  },
  {
   "cell_type": "code",
   "execution_count": 23,
   "id": "284bf2c8-ff39-4939-ba30-2eb6b0060bb4",
   "metadata": {},
   "outputs": [
    {
     "name": "stdout",
     "output_type": "stream",
     "text": [
      "[1 2 3 4 5 6]\n"
     ]
    }
   ],
   "source": [
    "arr1 = np.array([1, 2, 3])\n",
    "arr2 = np.array([4, 5, 6])\n",
    "result = np.hstack((arr1, arr2))\n",
    "print(result)"
   ]
  },
  {
   "cell_type": "markdown",
   "id": "75e2a504-631d-4c6d-86ec-4d322bae73b1",
   "metadata": {},
   "source": [
    "# 8. Explain the differences between fliplr() and flipud() methods in NumPy, including their effects on various array dimensions."
   ]
  },
  {
   "cell_type": "markdown",
   "id": "c7509e48-16e0-4594-b048-6c07e6228b88",
   "metadata": {},
   "source": [
    "Both fliplr() and flipud() are functions used to reverse the order of elements in a 2D array along different axes.\n",
    "\n",
    "1. fliplr() (Flip Left to Right):\n",
    "Purpose: Reverses the order of columns (horizontal axis) in a 2D array.\n",
    "Effect: It flips the array left-to-right, meaning the first column becomes the last, the second column becomes the second-to-last, and so on.\n",
    "Applicable to: Only 2D arrays. For higher dimensions, it operates on the last axis (i.e., columns)."
   ]
  },
  {
   "cell_type": "code",
   "execution_count": 24,
   "id": "a97249e9-a435-4a36-88a7-f868d753357a",
   "metadata": {},
   "outputs": [
    {
     "name": "stdout",
     "output_type": "stream",
     "text": [
      "[[3 2 1]\n",
      " [6 5 4]\n",
      " [9 8 7]]\n"
     ]
    }
   ],
   "source": [
    "import numpy as np\n",
    "arr = np.array([[1, 2, 3],[4, 5, 6],[7, 8, 9]])\n",
    "result = np.fliplr(arr)\n",
    "print(result)"
   ]
  },
  {
   "cell_type": "markdown",
   "id": "c311219c-b20a-48cb-ac95-5eff1a6ec945",
   "metadata": {},
   "source": [
    "2. flipud() (Flip Up to Down):\n",
    "Purpose: Reverses the order of rows (vertical axis) in a 2D array.\n",
    "Effect: It flips the array upside-down, meaning the first row becomes the last, the second row becomes the second-to-last, and so on.\n",
    "Applicable to: Only 2D arrays. For higher dimensions, it operates on the first axis (i.e., rows)."
   ]
  },
  {
   "cell_type": "code",
   "execution_count": 25,
   "id": "72ee8990-52de-409c-917b-4e72502bedcc",
   "metadata": {},
   "outputs": [
    {
     "name": "stdout",
     "output_type": "stream",
     "text": [
      "[[7 8 9]\n",
      " [4 5 6]\n",
      " [1 2 3]]\n"
     ]
    }
   ],
   "source": [
    "result = np.flipud(arr)\n",
    "print(result)"
   ]
  },
  {
   "cell_type": "markdown",
   "id": "45a9021c-bf66-4678-aaf7-c7f883943bf2",
   "metadata": {},
   "source": [
    "# 9. Discuss the functionality of the array_split() method in NumPy. How does it handle uneven splits?"
   ]
  },
  {
   "cell_type": "markdown",
   "id": "0df02ae4-461b-445d-ba9d-7b3809383357",
   "metadata": {},
   "source": [
    "The array_split() function in NumPy splits an array into multiple sub-arrays, similar to split(), but it is more flexible in handling cases where the array cannot be divided evenly.\n",
    "\n",
    "Key Features of array_split():\n",
    "Flexible Splitting: It allows you to split an array into a specified number of sub-arrays, even when the size of the array is not divisible evenly by the number of splits.\n",
    "Handling Uneven Splits: If the array cannot be split evenly, array_split() will distribute the extra elements across the first few sub-arrays to ensure that all sub-arrays have similar sizes.\n",
    "\n",
    "Syntax: numpy.array_split(arr, num_splits)"
   ]
  },
  {
   "cell_type": "code",
   "execution_count": 26,
   "id": "08b9d408-78df-4f83-af3f-539ef5d1855a",
   "metadata": {},
   "outputs": [
    {
     "name": "stdout",
     "output_type": "stream",
     "text": [
      "[array([1, 2, 3]), array([4, 5]), array([6, 7])]\n"
     ]
    }
   ],
   "source": [
    "import numpy as np\n",
    "arr = np.array([1, 2, 3, 4, 5, 6, 7])\n",
    "result = np.array_split(arr, 3)\n",
    "print(result)"
   ]
  },
  {
   "cell_type": "markdown",
   "id": "f9e7f6e1-c984-420d-9a88-047f7b6afc5c",
   "metadata": {},
   "source": [
    "How array_split() Handles Uneven Splits:\n",
    "\n",
    "When the array size is not divisible evenly by the number of splits:\n",
    "The first sub-arrays will contain one more element than the later sub-arrays.\n",
    "In the above example, the array has 7 elements, and it is split into 3 parts. The first sub-array gets 3 elements, and the other two get 2 elements each."
   ]
  },
  {
   "cell_type": "markdown",
   "id": "f4e69048-5e72-4299-ba8e-3186257bfaba",
   "metadata": {},
   "source": [
    "# 10. Explain the concepts of vectorization and broadcasting in NumPy. How do they contribute to efficient array operations?"
   ]
  },
  {
   "cell_type": "markdown",
   "id": "d14d1e37-9c2e-49fc-926e-0d034ecef8a8",
   "metadata": {},
   "source": [
    "1. Vectorization:\n",
    "\n",
    "Concept: Vectorization refers to the process of applying operations to entire arrays (or large chunks of data) at once, rather than iterating element by element using loops. NumPy operations are inherently vectorized, meaning they are applied to whole arrays without writing explicit loops in Python code.\n",
    "\n",
    "How it Works: NumPy leverages underlying optimized C and Fortran libraries (such as BLAS and LAPACK), allowing operations to be executed at a low level, directly on the array's data without Python overhead.\n",
    "\n",
    "Benefits:\n",
    "Faster Execution: By avoiding Python loops, vectorized operations run much faster, especially for large datasets.\n",
    "Cleaner Code: Operations are expressed more clearly and concisely."
   ]
  },
  {
   "cell_type": "code",
   "execution_count": 28,
   "id": "99b72da9-f944-431f-9ea8-1ad48e71f337",
   "metadata": {},
   "outputs": [
    {
     "name": "stdout",
     "output_type": "stream",
     "text": [
      "[2 4 6 8]\n"
     ]
    }
   ],
   "source": [
    "import numpy as np\n",
    "arr = np.array([1, 2, 3, 4])\n",
    "result = arr * 2\n",
    "print(result)"
   ]
  },
  {
   "cell_type": "markdown",
   "id": "af3524d2-a254-41d0-95c3-9b93b834fdee",
   "metadata": {},
   "source": [
    "2. Broadcasting:\n",
    "Concept: Broadcasting allows NumPy to perform element-wise operations on arrays with different shapes by \"stretching\" the smaller array to match the shape of the larger array. It works without copying data or creating new arrays, enabling efficient memory use and faster operations.\n",
    "\n",
    "Rules for Broadcasting:\n",
    "\n",
    "If arrays differ in the number of dimensions, prepend 1 to the shape of the smaller array.\n",
    "Arrays are compatible for broadcasting if, for each dimension, the sizes either match or one of them is 1.\n",
    "If any dimension is 1, NumPy \"stretches\" that dimension to match the other array.\n",
    "Benefits:\n",
    "\n",
    "Memory Efficiency: Broadcasting avoids the need to create unnecessary copies of arrays.\n",
    "Faster Computations: It reduces the complexity of operations, allowing NumPy to handle different array shapes seamlessly."
   ]
  },
  {
   "cell_type": "code",
   "execution_count": 29,
   "id": "43e8e5af-6a5c-4169-97eb-c434f61373d4",
   "metadata": {},
   "outputs": [
    {
     "name": "stdout",
     "output_type": "stream",
     "text": [
      "[[11 12 13]\n",
      " [21 22 23]\n",
      " [31 32 33]]\n"
     ]
    }
   ],
   "source": [
    "arr1 = np.array([1, 2, 3])\n",
    "arr2 = np.array([[10], [20], [30]])\n",
    "result = arr1 + arr2\n",
    "print(result)"
   ]
  },
  {
   "cell_type": "markdown",
   "id": "0b5b0e4c-1096-44af-a96b-6b8e817212c4",
   "metadata": {},
   "source": [
    "Contributions to Efficiency:\n",
    "\n",
    "Vectorization:\n",
    "Speeds up operations by executing them in bulk rather than iteratively.\n",
    "Minimizes Python overhead, taking advantage of low-level optimizations in compiled libraries.\n",
    "\n",
    "Broadcasting:\n",
    "Allows operations between arrays of different shapes without extra memory allocation.\n",
    "Simplifies code by eliminating the need for explicit reshaping or looping."
   ]
  }
 ],
 "metadata": {
  "kernelspec": {
   "display_name": "Python 3 (ipykernel)",
   "language": "python",
   "name": "python3"
  },
  "language_info": {
   "codemirror_mode": {
    "name": "ipython",
    "version": 3
   },
   "file_extension": ".py",
   "mimetype": "text/x-python",
   "name": "python",
   "nbconvert_exporter": "python",
   "pygments_lexer": "ipython3",
   "version": "3.12.6"
  }
 },
 "nbformat": 4,
 "nbformat_minor": 5
}
