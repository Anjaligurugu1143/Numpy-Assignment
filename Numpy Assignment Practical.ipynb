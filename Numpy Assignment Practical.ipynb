{
 "cells": [
  {
   "cell_type": "markdown",
   "id": "db29db4a-646f-4f3d-b2bd-26c0bc478b97",
   "metadata": {},
   "source": [
    "# 1. Create a 3x3 NumPy array with random integers between 1 and 100. Then, interchange its rows and columns."
   ]
  },
  {
   "cell_type": "code",
   "execution_count": 1,
   "id": "a42bca38-e2eb-4c10-93dd-70d210210f3b",
   "metadata": {},
   "outputs": [
    {
     "name": "stdout",
     "output_type": "stream",
     "text": [
      "Original Array:\n",
      " [[14  9 80]\n",
      " [16 14 53]\n",
      " [68 50  7]]\n",
      "Transposed Array:\n",
      " [[14 16 68]\n",
      " [ 9 14 50]\n",
      " [80 53  7]]\n"
     ]
    }
   ],
   "source": [
    "import numpy as np\n",
    "array = np.random.randint(1, 101, size=(3, 3))\n",
    "transposed_array = np.transpose(array)\n",
    "print(\"Original Array:\\n\", array)\n",
    "print(\"Transposed Array:\\n\", transposed_array)"
   ]
  },
  {
   "cell_type": "markdown",
   "id": "40a26762-4f82-4ded-bb2a-e5230b42b00a",
   "metadata": {},
   "source": [
    "# 2. Generate a 1D NumPy array with 10 elements. Reshape it into a 2x5 array, then into a 5x2 array."
   ]
  },
  {
   "cell_type": "code",
   "execution_count": 2,
   "id": "c96f112d-6838-4210-a0c6-abf5f287e920",
   "metadata": {},
   "outputs": [
    {
     "name": "stdout",
     "output_type": "stream",
     "text": [
      "Original 1D Array:\n",
      " [0 1 2 3 4 5 6 7 8 9]\n",
      "Reshaped 2x5 Array:\n",
      " [[0 1 2 3 4]\n",
      " [5 6 7 8 9]]\n",
      "Reshaped 5x2 Array:\n",
      " [[0 1]\n",
      " [2 3]\n",
      " [4 5]\n",
      " [6 7]\n",
      " [8 9]]\n"
     ]
    }
   ],
   "source": [
    "import numpy as np\n",
    "arr1 = np.arange(10)\n",
    "arr2 = arr1.reshape(2, 5)\n",
    "arr3= arr1.reshape(5, 2)\n",
    "print(\"Original 1D Array:\\n\", arr1)\n",
    "print(\"Reshaped 2x5 Array:\\n\", arr2)\n",
    "print(\"Reshaped 5x2 Array:\\n\", arr3)"
   ]
  },
  {
   "cell_type": "markdown",
   "id": "fa44df2b-06a1-4ac2-8640-4db6a4f02519",
   "metadata": {},
   "source": [
    "# 3. Create a 4x4 NumPy array with random float values. Add a border of zeros around it, resulting in a 6x6 array."
   ]
  },
  {
   "cell_type": "code",
   "execution_count": 3,
   "id": "7bedaf29-308f-4241-be13-51c54ee7efe7",
   "metadata": {},
   "outputs": [
    {
     "name": "stdout",
     "output_type": "stream",
     "text": [
      "Original 4x4 Array:\n",
      " [[0.54606375 0.96066217 0.63777237 0.7529255 ]\n",
      " [0.68581254 0.04365695 0.00207054 0.82097302]\n",
      " [0.40250403 0.92457451 0.16480719 0.44368887]\n",
      " [0.79140083 0.06715112 0.28969322 0.2277873 ]]\n",
      "6x6 Array with Border of Zeros:\n",
      " [[0.         0.         0.         0.         0.         0.        ]\n",
      " [0.         0.54606375 0.96066217 0.63777237 0.7529255  0.        ]\n",
      " [0.         0.68581254 0.04365695 0.00207054 0.82097302 0.        ]\n",
      " [0.         0.40250403 0.92457451 0.16480719 0.44368887 0.        ]\n",
      " [0.         0.79140083 0.06715112 0.28969322 0.2277873  0.        ]\n",
      " [0.         0.         0.         0.         0.         0.        ]]\n"
     ]
    }
   ],
   "source": [
    "import numpy as np\n",
    "arr = np.random.rand(4, 4)\n",
    "arr1 = np.pad(arr, pad_width=1, mode='constant', constant_values=0)\n",
    "print(\"Original 4x4 Array:\\n\", arr)\n",
    "print(\"6x6 Array with Border of Zeros:\\n\", arr1)"
   ]
  },
  {
   "cell_type": "markdown",
   "id": "e5d89d8f-b9fa-4ea4-aa0f-03bb806753ed",
   "metadata": {},
   "source": [
    "# 4. Using NumPy, create an array of integers from 10 to 60 with a step of 5."
   ]
  },
  {
   "cell_type": "code",
   "execution_count": 5,
   "id": "559870ac-c61d-40ee-a927-679768b40630",
   "metadata": {},
   "outputs": [
    {
     "name": "stdout",
     "output_type": "stream",
     "text": [
      "[10 15 20 25 30 35 40 45 50 55 60]\n"
     ]
    }
   ],
   "source": [
    "import numpy as np\n",
    "arr=np.arange(10,61,5)\n",
    "print(arr)"
   ]
  },
  {
   "cell_type": "markdown",
   "id": "4b9193af-a91b-4ec5-86cb-a352d575e3f3",
   "metadata": {},
   "source": [
    "# 5. Create a NumPy array of strings ['python', 'numpy', 'pandas']. Apply different case transformations (uppercase, lowercase, title case, etc.) to each element."
   ]
  },
  {
   "cell_type": "code",
   "execution_count": 12,
   "id": "a641c32c-7a5d-443f-b625-4f4555841325",
   "metadata": {},
   "outputs": [
    {
     "name": "stdout",
     "output_type": "stream",
     "text": [
      "['python' 'numpy' 'pandas']\n",
      "['PYTHON' 'NUMPY' 'PANDAS']\n",
      "['python' 'numpy' 'pandas']\n",
      "['Python' 'Numpy' 'Pandas']\n"
     ]
    }
   ],
   "source": [
    "import numpy as np\n",
    "lis=['python','numpy','pandas']\n",
    "arr=np.array(lis)\n",
    "print(arr)\n",
    "print(np.char.upper(arr))\n",
    "print(np.char.lower(arr))\n",
    "print(np.char.title(arr))"
   ]
  },
  {
   "cell_type": "markdown",
   "id": "7860510a-8b62-43ca-a83e-160f61740b19",
   "metadata": {},
   "source": [
    "# 6. Generate a NumPy array of words. Insert a space between each character of every word in the array."
   ]
  },
  {
   "cell_type": "code",
   "execution_count": 14,
   "id": "e457fe7d-1454-4953-997a-4f5d76e83f29",
   "metadata": {},
   "outputs": [
    {
     "name": "stdout",
     "output_type": "stream",
     "text": [
      "['p y t h o n' 'n u m p y' 'p a n d a s']\n"
     ]
    }
   ],
   "source": [
    "import numpy as np\n",
    "lis=['python','numpy','pandas']\n",
    "arr=np.array(lis)\n",
    "res=np.array([' '.join(word) for word in arr])\n",
    "print(res)"
   ]
  },
  {
   "cell_type": "markdown",
   "id": "1738df73-7656-4958-bf1c-a43465aab734",
   "metadata": {},
   "source": [
    "# 7. Create two 2D NumPy arrays and perform element-wise addition, subtraction, multiplication, and division."
   ]
  },
  {
   "cell_type": "code",
   "execution_count": 18,
   "id": "071758f0-c16b-4410-86fd-c3b92391ae51",
   "metadata": {},
   "outputs": [
    {
     "name": "stdout",
     "output_type": "stream",
     "text": [
      "arr1 is:\n",
      " [[3 1 1]\n",
      " [1 2 4]\n",
      " [4 1 1]]\n",
      "arr2 is:\n",
      " [[2 1 1]\n",
      " [4 2 4]\n",
      " [1 1 3]]\n",
      "arr1+arr2 is\n",
      " [[5 2 2]\n",
      " [5 4 8]\n",
      " [5 2 4]]\n",
      "arr1-arr2 is\n",
      " [[ 1  0  0]\n",
      " [-3  0  0]\n",
      " [ 3  0 -2]]\n",
      "arr1*arr2 is\n",
      " [[ 6  1  1]\n",
      " [ 4  4 16]\n",
      " [ 4  1  3]]\n",
      "arr1/arr2 is\n",
      " [[1.5        1.         1.        ]\n",
      " [0.25       1.         1.        ]\n",
      " [4.         1.         0.33333333]]\n"
     ]
    }
   ],
   "source": [
    "import numpy as np\n",
    "arr1=np.random.randint(1,5,(3,3))\n",
    "arr2=np.random.randint(1,5,(3,3))\n",
    "print(\"arr1 is:\\n\",arr1)\n",
    "print(\"arr2 is:\\n\",arr2)\n",
    "print(\"arr1+arr2 is\\n\",arr1+arr2)\n",
    "print(\"arr1-arr2 is\\n\",arr1-arr2)\n",
    "print(\"arr1*arr2 is\\n\",arr1*arr2)\n",
    "print(\"arr1/arr2 is\\n\",arr1/arr2)"
   ]
  },
  {
   "cell_type": "markdown",
   "id": "f6093c0a-72a2-4ecc-849c-00d61521e712",
   "metadata": {},
   "source": [
    "# 8.Use NumPy to create a 5x5 identity matrix, then extract its diagonal elements."
   ]
  },
  {
   "cell_type": "code",
   "execution_count": 21,
   "id": "0953d677-f3f7-47ff-afaf-2b44f85d825f",
   "metadata": {},
   "outputs": [
    {
     "name": "stdout",
     "output_type": "stream",
     "text": [
      "identity matrix is\n",
      " [[1. 0. 0. 0. 0.]\n",
      " [0. 1. 0. 0. 0.]\n",
      " [0. 0. 1. 0. 0.]\n",
      " [0. 0. 0. 1. 0.]\n",
      " [0. 0. 0. 0. 1.]]\n",
      "diagonal elements:\n",
      " [1. 1. 1. 1. 1.]\n"
     ]
    }
   ],
   "source": [
    "import numpy as np\n",
    "arr=np.eye(5)\n",
    "print(\"identity matrix is\\n\",arr)\n",
    "res=np.diag(arr)\n",
    "print(\"diagonal elements:\\n\",res)"
   ]
  },
  {
   "cell_type": "markdown",
   "id": "0ccac514-a11b-41e3-89b6-bc7647c872d3",
   "metadata": {},
   "source": [
    "# 9. Generate a NumPy array of 100 random integers between 0 and 1000. Find and display all prime numbers in this array."
   ]
  },
  {
   "cell_type": "code",
   "execution_count": 22,
   "id": "ca97adb5-d772-4c84-b77e-fbdc07bf8557",
   "metadata": {},
   "outputs": [
    {
     "data": {
      "text/plain": [
       "[np.int32(273),\n",
       " np.int32(399),\n",
       " np.int32(925),\n",
       " np.int32(981),\n",
       " np.int32(105),\n",
       " np.int32(417),\n",
       " np.int32(979),\n",
       " np.int32(301),\n",
       " np.int32(645),\n",
       " np.int32(565),\n",
       " np.int32(483),\n",
       " np.int32(607),\n",
       " np.int32(281),\n",
       " np.int32(659),\n",
       " np.int32(525),\n",
       " np.int32(967),\n",
       " np.int32(181),\n",
       " np.int32(889),\n",
       " np.int32(187),\n",
       " np.int32(899),\n",
       " np.int32(999),\n",
       " np.int32(475),\n",
       " np.int32(407),\n",
       " np.int32(859),\n",
       " np.int32(375),\n",
       " np.int32(597),\n",
       " np.int32(917),\n",
       " np.int32(267),\n",
       " np.int32(399),\n",
       " np.int32(435),\n",
       " np.int32(603),\n",
       " np.int32(689),\n",
       " np.int32(37),\n",
       " np.int32(681),\n",
       " np.int32(317),\n",
       " np.int32(287),\n",
       " np.int32(789),\n",
       " np.int32(443),\n",
       " np.int32(155)]"
      ]
     },
     "execution_count": 22,
     "metadata": {},
     "output_type": "execute_result"
    }
   ],
   "source": [
    "import numpy as np\n",
    "arr1=np.random.randint(0,1001,100)\n",
    "def is_prime(n):\n",
    "    if n<=1:\n",
    "        return False\n",
    "    for i in range(2,int(n**0.5)+1):\n",
    "        if n%i==0:\n",
    "            return False\n",
    "        return True\n",
    "def find_primes(arr):\n",
    "    primes=[num for num in arr if is_prime(num)]\n",
    "    return primes\n",
    "find_primes(arr1)"
   ]
  },
  {
   "cell_type": "markdown",
   "id": "6045b1f4-c8b7-4ad7-80ee-e26f016c446b",
   "metadata": {},
   "source": [
    "# 10. Create a NumPy array representing daily temperatures for a month. Calculate and display the weekly averages."
   ]
  },
  {
   "cell_type": "code",
   "execution_count": 24,
   "id": "a24c5e5e-a9bb-445a-a5ed-dcd40b69916c",
   "metadata": {},
   "outputs": [
    {
     "name": "stdout",
     "output_type": "stream",
     "text": [
      "daily temperatures:\n",
      " [27 20 15 18 26 18 22 24 18 20 17 19 22 21 23 23 27 25 16 21 22 22 29 23\n",
      " 16 20 24 28]\n",
      "weekly averages:\n",
      " [20.85714286 20.14285714 22.42857143 23.14285714]\n"
     ]
    }
   ],
   "source": [
    "import numpy as np\n",
    "np.random.seed(0)\n",
    "daily_temp=np.random.randint(low=15,high=30,size=28)\n",
    "weekly_temp=daily_temp.reshape(4,7)\n",
    "weekly_avg=np.mean(weekly_temp,axis=1)\n",
    "print(\"daily temperatures:\\n\",daily_temp)\n",
    "print(\"weekly averages:\\n\",weekly_avg)"
   ]
  },
  {
   "cell_type": "code",
   "execution_count": null,
   "id": "7cc6a6a1-1137-4f4e-b037-6dd3ad8708a4",
   "metadata": {},
   "outputs": [],
   "source": []
  }
 ],
 "metadata": {
  "kernelspec": {
   "display_name": "Python 3 (ipykernel)",
   "language": "python",
   "name": "python3"
  },
  "language_info": {
   "codemirror_mode": {
    "name": "ipython",
    "version": 3
   },
   "file_extension": ".py",
   "mimetype": "text/x-python",
   "name": "python",
   "nbconvert_exporter": "python",
   "pygments_lexer": "ipython3",
   "version": "3.12.6"
  }
 },
 "nbformat": 4,
 "nbformat_minor": 5
}
